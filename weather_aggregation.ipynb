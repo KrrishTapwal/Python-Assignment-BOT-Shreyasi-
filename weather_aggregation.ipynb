{
 "cells": [
  {
   "cell_type": "code",
   "execution_count": null,
   "id": "5c703ca0",
   "metadata": {},
   "outputs": [],
   "source": [
    "# Python Assignment for BOT Shreyasith\n",
    "## Overview\n",
    "##This project includes two Python functions and an SQL query:\n",
    "##1. **Weather Aggregation Function**: Aggregates temperature and humidity data for different cities.\n",
    "##2. **Prime Factorization Function**: Returns the prime factorization of an integer in the form of tuples.\n",
    "##3. **SQL Query**: Updates product prices by 10% and displays the new prices."
   ]
  },
  {
   "cell_type": "code",
   "execution_count": 22,
   "id": "6e63a33f",
   "metadata": {},
   "outputs": [
    {
     "name": "stdout",
     "output_type": "stream",
     "text": [
      "City: CityA, Avg Temp: 26.5, Avg Humidity: 80.0\n",
      "City: CityB, Avg Temp: 30.0, Avg Humidity: 67.5\n"
     ]
    }
   ],
   "source": [
    "# Weather aggregation function\n",
    "\n",
    "def aggregate_weather_data(records):\n",
    "    city_data = {}\n",
    "\n",
    "    # Iterate over all records\n",
    "    for record in records:\n",
    "        city = record.get('city')  # Get the city name\n",
    "        if city not in city_data:\n",
    "            city_data[city] = {'temp_sum': 0, 'temp_count': 0, 'humidity_sum': 0, 'humidity_count': 0}\n",
    "\n",
    "        # Aggregate temperature data if present\n",
    "        if 'temperature' in record:\n",
    "            city_data[city]['temp_sum'] += record['temperature']\n",
    "            city_data[city]['temp_count'] += 1\n",
    "        \n",
    "        # Aggregate humidity data if present\n",
    "        if 'humidity' in record:\n",
    "            city_data[city]['humidity_sum'] += record['humidity']\n",
    "            city_data[city]['humidity_count'] += 1\n",
    "\n",
    "    # Calculate average temperature and humidity for each city\n",
    "    for city, data in city_data.items():\n",
    "        avg_temp = data['temp_sum'] / data['temp_count'] if data['temp_count'] > 0 else None\n",
    "        avg_humidity = data['humidity_sum'] / data['humidity_count'] if data['humidity_count'] > 0 else None\n",
    "        print(f\"City: {city}, Avg Temp: {avg_temp}, Avg Humidity: {avg_humidity}\")\n",
    "\n",
    "# Example usage\n",
    "records = [\n",
    "    {'city': 'CityA', 'temperature': 25, 'humidity': 80},\n",
    "    {'city': 'CityA', 'temperature': 28},  # No humidity\n",
    "    {'city': 'CityB', 'temperature': 30, 'humidity': 70},\n",
    "    {'city': 'CityB', 'humidity': 65},  # No temperature\n",
    "]\n",
    "aggregate_weather_data(records)\n",
    "\n"
   ]
  },
  {
   "cell_type": "code",
   "execution_count": 23,
   "id": "0f07d478",
   "metadata": {},
   "outputs": [
    {
     "name": "stdout",
     "output_type": "stream",
     "text": [
      "Prime factors of 60: [(2, 2), (3, 1), (5, 1)]\n"
     ]
    }
   ],
   "source": [
    "# Prime factorization function\n",
    "\n",
    "def prime_factors(n):\n",
    "    factors = []\n",
    "    count = 0\n",
    "    \n",
    "    # Divide by 2 to handle even numbers\n",
    "    while n % 2 == 0:\n",
    "        count += 1\n",
    "        n //= 2\n",
    "    if count > 0:\n",
    "        factors.append((2, count))\n",
    "    \n",
    "    # Check for odd factors from 3 onwards\n",
    "    for i in range(3, int(n**0.5) + 1, 2):\n",
    "        count = 0\n",
    "        while n % i == 0:\n",
    "            count += 1\n",
    "            n //= i\n",
    "        if count > 0:\n",
    "            factors.append((i, count))\n",
    "    \n",
    "    # If n is a prime number greater than 2\n",
    "    if n > 2:\n",
    "        factors.append((n, 1))\n",
    "    \n",
    "    return factors\n",
    "\n",
    "# Example usage\n",
    "number = 60\n",
    "print(f\"Prime factors of {number}: {prime_factors(number)}\")\n"
   ]
  },
  {
   "cell_type": "code",
   "execution_count": 24,
   "id": "02f081b0",
   "metadata": {},
   "outputs": [
    {
     "name": "stdout",
     "output_type": "stream",
     "text": [
      "Product: ProductA, New Price: 146.41000000000008\n",
      "Product: ProductB, New Price: 219.61500000000007\n",
      "Product: ProductC, New Price: 292.82000000000016\n",
      "Product: ProductA, New Price: 133.10000000000005\n",
      "Product: ProductB, New Price: 199.65000000000003\n",
      "Product: ProductC, New Price: 266.2000000000001\n",
      "Product: ProductA, New Price: 121.00000000000003\n",
      "Product: ProductB, New Price: 181.50000000000003\n",
      "Product: ProductC, New Price: 242.00000000000006\n",
      "Product: ProductA, New Price: 110.00000000000001\n",
      "Product: ProductB, New Price: 165.0\n",
      "Product: ProductC, New Price: 220.00000000000003\n"
     ]
    }
   ],
   "source": [
    "# Connect to SQLite database (or create it if it doesn't exist)\n",
    "conn = sqlite3.connect('products.db')\n",
    "\n",
    "# Create a cursor object\n",
    "cursor = conn.cursor()\n",
    "\n",
    "# Create table (if it doesn't exist)\n",
    "cursor.execute('''\n",
    "CREATE TABLE IF NOT EXISTS products (\n",
    "    id INTEGER PRIMARY KEY,\n",
    "    name TEXT NOT NULL,\n",
    "    price REAL NOT NULL\n",
    ")\n",
    "''')\n",
    "\n",
    "# Example data insertion\n",
    "cursor.execute('INSERT INTO products (name, price) VALUES (\"ProductA\", 100)')\n",
    "cursor.execute('INSERT INTO products (name, price) VALUES (\"ProductB\", 150)')\n",
    "cursor.execute('INSERT INTO products (name, price) VALUES (\"ProductC\", 200)')\n",
    "\n",
    "# Commit the changes\n",
    "conn.commit()\n",
    "\n",
    "# Run the update query\n",
    "cursor.execute('UPDATE products SET price = price * 1.10')\n",
    "conn.commit()\n",
    "\n",
    "# Fetch and display updated data\n",
    "cursor.execute('SELECT name, price FROM products')\n",
    "rows = cursor.fetchall()\n",
    "\n",
    "for row in rows:\n",
    "    print(f\"Product: {row[0]}, New Price: {row[1]}\")\n",
    "\n",
    "# Close the connection\n",
    "conn.close()\n",
    "\n",
    "\n"
   ]
  },
  {
   "cell_type": "code",
   "execution_count": null,
   "id": "e19b62a9",
   "metadata": {},
   "outputs": [],
   "source": []
  },
  {
   "cell_type": "code",
   "execution_count": null,
   "id": "7db7a9f5",
   "metadata": {},
   "outputs": [],
   "source": []
  }
 ],
 "metadata": {
  "kernelspec": {
   "display_name": "Python 3 (ipykernel)",
   "language": "python",
   "name": "python3"
  },
  "language_info": {
   "codemirror_mode": {
    "name": "ipython",
    "version": 3
   },
   "file_extension": ".py",
   "mimetype": "text/x-python",
   "name": "python",
   "nbconvert_exporter": "python",
   "pygments_lexer": "ipython3",
   "version": "3.11.4"
  }
 },
 "nbformat": 4,
 "nbformat_minor": 5
}
